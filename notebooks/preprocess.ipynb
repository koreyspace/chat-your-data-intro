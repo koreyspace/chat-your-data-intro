{
 "cells": [
  {
   "cell_type": "code",
   "execution_count": null,
   "metadata": {},
   "outputs": [],
   "source": [
    "# https://spacy.io/usage\n",
    "!python -m spacy download en_core_web_sm"
   ]
  },
  {
   "cell_type": "code",
   "execution_count": 8,
   "metadata": {},
   "outputs": [],
   "source": [
    "from pypdf import PdfReader\n",
    "import spacy\n",
    "import json\n",
    "\n",
    "# https://pypi.org/project/pypdf/\n",
    "reader = PdfReader(\"../data/outperforming-vector-search.pdf\")\n",
    "text = \" \".join([page.extract_text() for page in reader.pages])\n",
    "# https://spacy.io/usage/linguistic-features#sbd\n",
    "nlp = spacy.load(\"en_core_web_sm\")\n",
    "doc = nlp(text)\n",
    "\n",
    "with open(\"sentences.json\", \"w\") as f:\n",
    "    sentences = [{\"sentence\": sentence.text} for sentence in doc.sents]\n",
    "    json.dump(sentences, f)\n",
    "\n"
   ]
  }
 ],
 "metadata": {
  "kernelspec": {
   "display_name": "env",
   "language": "python",
   "name": "python3"
  },
  "language_info": {
   "codemirror_mode": {
    "name": "ipython",
    "version": 3
   },
   "file_extension": ".py",
   "mimetype": "text/x-python",
   "name": "python",
   "nbconvert_exporter": "python",
   "pygments_lexer": "ipython3",
   "version": "3.10.11"
  }
 },
 "nbformat": 4,
 "nbformat_minor": 2
}
